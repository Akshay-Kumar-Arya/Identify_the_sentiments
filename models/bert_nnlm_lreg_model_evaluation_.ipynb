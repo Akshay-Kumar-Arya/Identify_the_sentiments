{
  "nbformat": 4,
  "nbformat_minor": 0,
  "metadata": {
    "colab": {
      "name": "nnlm_vectors_using_lreg_model_evaluation .ipynb",
      "provenance": [],
      "collapsed_sections": [],
      "include_colab_link": true
    },
    "kernelspec": {
      "name": "python3",
      "display_name": "Python 3"
    },
    "accelerator": "GPU"
  },
  "cells": [
    {
      "cell_type": "markdown",
      "metadata": {
        "id": "view-in-github",
        "colab_type": "text"
      },
      "source": [
        "<a href=\"https://colab.research.google.com/github/Akshay-Kumar-Arya/Identify_the_sentiments/blob/master/bert_nnlm_lreg_model_evaluation_.ipynb\" target=\"_parent\"><img src=\"https://colab.research.google.com/assets/colab-badge.svg\" alt=\"Open In Colab\"/></a>"
      ]
    },
    {
      "cell_type": "markdown",
      "metadata": {
        "id": "WP7zVg-7sOUB",
        "colab_type": "text"
      },
      "source": [
        "# Logistic regression using nnlm+bert vectors"
      ]
    },
    {
      "cell_type": "code",
      "metadata": {
        "id": "z76hyPXUQfoW",
        "colab_type": "code",
        "colab": {}
      },
      "source": [
        "import sklearn\n",
        "from sklearn.model_selection import train_test_split\n",
        "import pickle\n",
        "import numpy as np\n",
        "import pandas as pd\n",
        "from sklearn.linear_model import LogisticRegression\n",
        "from sklearn.metrics import f1_score\n",
        "\n",
        "pd.set_option('display.max_colwidth', 200)"
      ],
      "execution_count": 7,
      "outputs": []
    },
    {
      "cell_type": "code",
      "metadata": {
        "id": "fRfhnlCsQcbA",
        "colab_type": "code",
        "colab": {
          "base_uri": "https://localhost:8080/",
          "height": 122
        },
        "outputId": "e022d8cc-89bc-4cdd-886d-55c824133385"
      },
      "source": [
        "from google.colab import drive\n",
        "drive.mount('/content/gdrive')"
      ],
      "execution_count": 2,
      "outputs": [
        {
          "output_type": "stream",
          "text": [
            "Go to this URL in a browser: https://accounts.google.com/o/oauth2/auth?client_id=947318989803-6bn6qk8qdgf4n4g3pfee6491hc0brc4i.apps.googleusercontent.com&redirect_uri=urn%3aietf%3awg%3aoauth%3a2.0%3aoob&response_type=code&scope=email%20https%3a%2f%2fwww.googleapis.com%2fauth%2fdocs.test%20https%3a%2f%2fwww.googleapis.com%2fauth%2fdrive%20https%3a%2f%2fwww.googleapis.com%2fauth%2fdrive.photos.readonly%20https%3a%2f%2fwww.googleapis.com%2fauth%2fpeopleapi.readonly\n",
            "\n",
            "Enter your authorization code:\n",
            "··········\n",
            "Mounted at /content/gdrive\n"
          ],
          "name": "stdout"
        }
      ]
    },
    {
      "cell_type": "code",
      "metadata": {
        "id": "vHVNZms4HwAs",
        "colab_type": "code",
        "colab": {}
      },
      "source": [
        "# Data path\n",
        "training_data_path = \"/content/gdrive/My Drive/Identify_the_sentiments/train.csv\"\n",
        "test_data_path =  \"/content/gdrive/My Drive/Identify_the_sentiments/test.csv\"\n",
        "\n",
        "save_path = \"/content/gdrive/My Drive/Identify_the_sentiments/\""
      ],
      "execution_count": 2,
      "outputs": []
    },
    {
      "cell_type": "code",
      "metadata": {
        "id": "YNZxi5veRvhA",
        "colab_type": "code",
        "colab": {
          "base_uri": "https://localhost:8080/",
          "height": 34
        },
        "outputId": "5f082cf3-4668-4016-9609-91802894e500"
      },
      "source": [
        "# reading data from csv\n",
        "train_data = pd.read_csv(training_data_path)\n",
        "test_data = pd.read_csv(test_data_path)\n",
        "\n",
        "print (train_data.shape, test_data.shape)"
      ],
      "execution_count": 3,
      "outputs": [
        {
          "output_type": "stream",
          "text": [
            "(7920, 3) (1953, 2)\n"
          ],
          "name": "stdout"
        }
      ]
    },
    {
      "cell_type": "code",
      "metadata": {
        "id": "GYW1WQ2GSAn5",
        "colab_type": "code",
        "colab": {}
      },
      "source": [
        "# import nnlm embeddings for tweets\n",
        "train_file = open(save_path + \"nnlm_train.pickle\", \"rb\")\n",
        "pool_embs_train_nnlm = pickle.load(train_file)\n",
        "\n",
        "test_file = open(save_path + \"nnlm_test.pickle\", \"rb\")\n",
        "pool_embs_test_nnlm = pickle.load(test_file)"
      ],
      "execution_count": 4,
      "outputs": []
    },
    {
      "cell_type": "code",
      "metadata": {
        "id": "tP8HSaRdj8_X",
        "colab_type": "code",
        "colab": {}
      },
      "source": [
        "# import bert embeddings for tweets\n",
        "train_file = open(save_path + \"bert_train.pickle\", \"rb\")\n",
        "pool_embs_train_bert, _ = pickle.load(train_file)\n",
        "\n",
        "test_file = open(save_path + \"bert_test.pickle\", \"rb\")\n",
        "pool_embs_test_bert, _ = pickle.load(test_file)"
      ],
      "execution_count": 5,
      "outputs": []
    },
    {
      "cell_type": "code",
      "metadata": {
        "id": "SmwcoNMskVcr",
        "colab_type": "code",
        "colab": {}
      },
      "source": [
        "train_final = np.concatenate((pool_embs_train_bert, pool_embs_train_nnlm),axis=1)\n",
        "test_final = np.concatenate((pool_embs_test_bert, pool_embs_test_nnlm),axis=1)"
      ],
      "execution_count": 8,
      "outputs": []
    },
    {
      "cell_type": "code",
      "metadata": {
        "id": "ictXb57LS5i5",
        "colab_type": "code",
        "colab": {
          "base_uri": "https://localhost:8080/",
          "height": 34
        },
        "outputId": "2c7de9e6-d0f0-4809-84fd-ee7ffd841993"
      },
      "source": [
        "# splitting training and validation data\n",
        "xtrain, xvalid, ytrain, yvalid = train_test_split(train_final, \n",
        "                                                  train_data['label'],  \n",
        "                                                  random_state=42, \n",
        "                                                  test_size=0.2)\n",
        "print (xtrain.shape, xvalid.shape, ytrain.shape, yvalid.shape)"
      ],
      "execution_count": 9,
      "outputs": [
        {
          "output_type": "stream",
          "text": [
            "(6336, 896) (1584, 896) (6336,) (1584,)\n"
          ],
          "name": "stdout"
        }
      ]
    },
    {
      "cell_type": "code",
      "metadata": {
        "id": "aTnXrChYTfZP",
        "colab_type": "code",
        "colab": {
          "base_uri": "https://localhost:8080/",
          "height": 136
        },
        "outputId": "72179024-2548-4579-916d-933e20537d0c"
      },
      "source": [
        "# logistic regression model\n",
        "lreg = LogisticRegression(max_iter = 10000, warm_start= True, verbose=True)\n",
        "lreg.fit(xtrain, ytrain)"
      ],
      "execution_count": 14,
      "outputs": [
        {
          "output_type": "stream",
          "text": [
            "[Parallel(n_jobs=1)]: Using backend SequentialBackend with 1 concurrent workers.\n",
            "[Parallel(n_jobs=1)]: Done   1 out of   1 | elapsed:    5.5s finished\n"
          ],
          "name": "stderr"
        },
        {
          "output_type": "execute_result",
          "data": {
            "text/plain": [
              "LogisticRegression(C=1.0, class_weight=None, dual=False, fit_intercept=True,\n",
              "                   intercept_scaling=1, l1_ratio=None, max_iter=20000,\n",
              "                   multi_class='auto', n_jobs=None, penalty='l2',\n",
              "                   random_state=None, solver='lbfgs', tol=0.0001, verbose=True,\n",
              "                   warm_start=True)"
            ]
          },
          "metadata": {
            "tags": []
          },
          "execution_count": 14
        }
      ]
    },
    {
      "cell_type": "code",
      "metadata": {
        "id": "OPh7E2CZUIHt",
        "colab_type": "code",
        "colab": {
          "base_uri": "https://localhost:8080/",
          "height": 34
        },
        "outputId": "d7c6693f-362c-4260-a729-ba3c51868e6c"
      },
      "source": [
        "# prediction on validation dataset\n",
        "preds_valid = lreg.predict(xvalid)\n",
        "print (f1_score(yvalid, preds_valid))"
      ],
      "execution_count": 15,
      "outputs": [
        {
          "output_type": "stream",
          "text": [
            "0.789598108747045\n"
          ],
          "name": "stdout"
        }
      ]
    },
    {
      "cell_type": "code",
      "metadata": {
        "id": "hi2Hw5qVVq-D",
        "colab_type": "code",
        "colab": {}
      },
      "source": [
        "# prediction on test dataset\n",
        "preds_test = lreg.predict(test_final)\n",
        "\n",
        "\n",
        "# prepare submission dataframe\n",
        "sub = pd.DataFrame({'id':test_data['id'], 'label':preds_test})\n",
        "\n",
        "# write predictions to a CSV file\n",
        "sub.to_csv(save_path + \"sub_lreg_bert+nnlm.csv\", index=False)\n",
        "# Your score for this submission is : 0.877712596054773."
      ],
      "execution_count": 16,
      "outputs": []
    },
    {
      "cell_type": "code",
      "metadata": {
        "id": "2GZCrXSAW1X_",
        "colab_type": "code",
        "colab": {}
      },
      "source": [
        ""
      ],
      "execution_count": null,
      "outputs": []
    }
  ]
}

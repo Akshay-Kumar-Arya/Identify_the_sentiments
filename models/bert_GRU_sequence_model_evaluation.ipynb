{
  "nbformat": 4,
  "nbformat_minor": 0,
  "metadata": {
    "colab": {
      "name": "Copy of model.ipynb",
      "provenance": [],
      "collapsed_sections": [],
      "include_colab_link": true
    },
    "kernelspec": {
      "name": "python3",
      "display_name": "Python 3"
    },
    "accelerator": "GPU"
  },
  "cells": [
    {
      "cell_type": "markdown",
      "metadata": {
        "id": "view-in-github",
        "colab_type": "text"
      },
      "source": [
        "<a href=\"https://colab.research.google.com/github/Akshay-Kumar-Arya/Identify_the_sentiments/blob/master/bert_GRU_sequence_model_evaluation.ipynb\" target=\"_parent\"><img src=\"https://colab.research.google.com/assets/colab-badge.svg\" alt=\"Open In Colab\"/></a>"
      ]
    },
    {
      "cell_type": "markdown",
      "metadata": {
        "id": "WP7zVg-7sOUB",
        "colab_type": "text"
      },
      "source": [
        "# GRU sequence model using Bert vectors"
      ]
    },
    {
      "cell_type": "code",
      "metadata": {
        "id": "z76hyPXUQfoW",
        "colab_type": "code",
        "colab": {}
      },
      "source": [
        "import sklearn\n",
        "from sklearn.model_selection import train_test_split\n",
        "import pickle\n",
        "import pandas as pd\n",
        "import tensorflow as tf\n",
        "from sklearn import svm\n",
        "from sklearn.metrics import f1_score\n",
        "pd.set_option('display.max_colwidth', 200)"
      ],
      "execution_count": 1,
      "outputs": []
    },
    {
      "cell_type": "code",
      "metadata": {
        "id": "fRfhnlCsQcbA",
        "colab_type": "code",
        "colab": {
          "base_uri": "https://localhost:8080/",
          "height": 122
        },
        "outputId": "ec5eb248-07ef-4a63-d768-5a20e21affe1"
      },
      "source": [
        "from google.colab import drive\n",
        "drive.mount('/content/gdrive')"
      ],
      "execution_count": 2,
      "outputs": [
        {
          "output_type": "stream",
          "text": [
            "Go to this URL in a browser: https://accounts.google.com/o/oauth2/auth?client_id=947318989803-6bn6qk8qdgf4n4g3pfee6491hc0brc4i.apps.googleusercontent.com&redirect_uri=urn%3aietf%3awg%3aoauth%3a2.0%3aoob&response_type=code&scope=email%20https%3a%2f%2fwww.googleapis.com%2fauth%2fdocs.test%20https%3a%2f%2fwww.googleapis.com%2fauth%2fdrive%20https%3a%2f%2fwww.googleapis.com%2fauth%2fdrive.photos.readonly%20https%3a%2f%2fwww.googleapis.com%2fauth%2fpeopleapi.readonly\n",
            "\n",
            "Enter your authorization code:\n",
            "··········\n",
            "Mounted at /content/gdrive\n"
          ],
          "name": "stdout"
        }
      ]
    },
    {
      "cell_type": "code",
      "metadata": {
        "id": "vHVNZms4HwAs",
        "colab_type": "code",
        "colab": {}
      },
      "source": [
        "# Data path\n",
        "training_data_path = \"/content/gdrive/My Drive/Identify_the_sentiments/train.csv\"\n",
        "test_data_path =  \"/content/gdrive/My Drive/Identify_the_sentiments/test.csv\"\n",
        "\n",
        "save_path = \"/content/gdrive/My Drive/Identify_the_sentiments/\""
      ],
      "execution_count": 2,
      "outputs": []
    },
    {
      "cell_type": "code",
      "metadata": {
        "id": "YNZxi5veRvhA",
        "colab_type": "code",
        "colab": {
          "base_uri": "https://localhost:8080/",
          "height": 34
        },
        "outputId": "17cf0667-31e0-41b5-f4c3-e9c3dea4e5ac"
      },
      "source": [
        "# reading data from csv\n",
        "train_data = pd.read_csv(training_data_path)\n",
        "test_data = pd.read_csv(test_data_path)\n",
        "\n",
        "print (train_data.shape, test_data.shape)"
      ],
      "execution_count": 3,
      "outputs": [
        {
          "output_type": "stream",
          "text": [
            "(7920, 3) (1953, 2)\n"
          ],
          "name": "stdout"
        }
      ]
    },
    {
      "cell_type": "code",
      "metadata": {
        "id": "GYW1WQ2GSAn5",
        "colab_type": "code",
        "colab": {}
      },
      "source": [
        "# import bert embeddings for tweets\n",
        "train_file = open(save_path + \"bert_train.pickle\", \"rb\")\n",
        "pool_embs_train, all_embs_train = pickle.load(train_file)\n",
        "\n",
        "test_file = open(save_path + \"bert_test.pickle\", \"rb\")\n",
        "pool_embs_test, all_embs_test = pickle.load(test_file)"
      ],
      "execution_count": 4,
      "outputs": []
    },
    {
      "cell_type": "code",
      "metadata": {
        "id": "ictXb57LS5i5",
        "colab_type": "code",
        "colab": {
          "base_uri": "https://localhost:8080/",
          "height": 34
        },
        "outputId": "73782d31-4215-4e92-c9a9-ff4f32fc2296"
      },
      "source": [
        "# splitting training and validation data\n",
        "xtrain, xvalid, ytrain, yvalid = train_test_split(all_embs_train, \n",
        "                                                  train_data['label'],\n",
        "                                                  random_state=42, \n",
        "                                                  test_size=0.2)\n",
        "print (xtrain.shape, xvalid.shape, ytrain.shape, yvalid.shape)"
      ],
      "execution_count": 5,
      "outputs": [
        {
          "output_type": "stream",
          "text": [
            "(6336, 128, 768) (1584, 128, 768) (6336,) (1584,)\n"
          ],
          "name": "stdout"
        }
      ]
    },
    {
      "cell_type": "code",
      "metadata": {
        "id": "_Y1TH9lcr9MP",
        "colab_type": "code",
        "colab": {
          "base_uri": "https://localhost:8080/",
          "height": 207
        },
        "outputId": "782ec8db-08a4-4b26-d3e1-4f71719fb9df"
      },
      "source": [
        "#first\n",
        "model = tf.keras.models.Sequential([\n",
        "                                    tf.keras.layers.GRU(units=8, input_shape=(128, 768)),\n",
        "                                    tf.keras.layers.Dense(units=1, activation='sigmoid')\n",
        "])\n",
        "\n",
        "\n",
        "model.compile(loss='binary_crossentropy', metrics=[tf.keras.metrics.Precision(), tf.keras.metrics.Recall()], optimizer='adam')\n",
        "history = model.fit(xtrain, ytrain, validation_data=(xvalid, yvalid), epochs=5, batch_size=32)"
      ],
      "execution_count": 6,
      "outputs": [
        {
          "output_type": "stream",
          "text": [
            "Epoch 1/5\n",
            "198/198 [==============================] - 8s 39ms/step - loss: 0.3128 - precision: 0.7579 - recall: 0.6813 - val_loss: 0.2632 - val_precision: 0.7485 - val_recall: 0.8889\n",
            "Epoch 2/5\n",
            "198/198 [==============================] - 7s 36ms/step - loss: 0.2430 - precision: 0.7787 - recall: 0.8457 - val_loss: 0.2538 - val_precision: 0.8090 - val_recall: 0.7940\n",
            "Epoch 3/5\n",
            "198/198 [==============================] - 7s 36ms/step - loss: 0.2236 - precision: 0.7954 - recall: 0.8657 - val_loss: 0.2554 - val_precision: 0.8155 - val_recall: 0.7778\n",
            "Epoch 4/5\n",
            "198/198 [==============================] - 7s 36ms/step - loss: 0.2089 - precision: 0.8020 - recall: 0.8896 - val_loss: 0.2590 - val_precision: 0.8158 - val_recall: 0.7894\n",
            "Epoch 5/5\n",
            "198/198 [==============================] - 7s 36ms/step - loss: 0.1985 - precision: 0.8097 - recall: 0.9021 - val_loss: 0.2386 - val_precision: 0.7755 - val_recall: 0.8796\n"
          ],
          "name": "stdout"
        }
      ]
    },
    {
      "cell_type": "code",
      "metadata": {
        "id": "IZnzlsXyAoQX",
        "colab_type": "code",
        "colab": {}
      },
      "source": [
        "# prediction on validation dataset\n",
        "preds_valid = model.predict(xvalid)\n",
        "#print (f1_score(yvalid, preds_valid))\n",
        "preds_valid[preds_valid < 0.5] = 0\n",
        "preds_valid[preds_valid >= 0.5] = 1"
      ],
      "execution_count": 9,
      "outputs": []
    },
    {
      "cell_type": "code",
      "metadata": {
        "id": "jiTf7nRgRS9Y",
        "colab_type": "code",
        "colab": {
          "base_uri": "https://localhost:8080/",
          "height": 34
        },
        "outputId": "56395336-8892-4abe-fef7-04f8ad80294d"
      },
      "source": [
        "# first\n",
        "f1_score(yvalid, preds_valid)"
      ],
      "execution_count": 10,
      "outputs": [
        {
          "output_type": "execute_result",
          "data": {
            "text/plain": [
              "0.824295010845987"
            ]
          },
          "metadata": {
            "tags": []
          },
          "execution_count": 10
        }
      ]
    },
    {
      "cell_type": "code",
      "metadata": {
        "id": "hi2Hw5qVVq-D",
        "colab_type": "code",
        "colab": {}
      },
      "source": [
        "# prediction on test dataset\n",
        "import numpy as np\n",
        "preds_test = model.predict(all_embs_test)\n",
        "preds_test[preds_test < 0.5] = 0\n",
        "preds_test[preds_test >= 0.5] = 1\n",
        "\n",
        "preds_test = np.squeeze(preds_test)\n",
        "\n",
        "# prepare submission dataframe\n",
        "sub = pd.DataFrame({'id':test_data['id'], 'label':preds_test})\n",
        "\n",
        "# write predictions to a CSV file\n",
        "sub.to_csv(save_path + \"sub_rnn_bert.csv\", index=False)\n",
        "# Your score for this submission is : 0.8989105276853336.\n",
        "# Your score for this submission is : 0.8916512076117228.\n"
      ],
      "execution_count": 11,
      "outputs": []
    },
    {
      "cell_type": "code",
      "metadata": {
        "id": "2GZCrXSAW1X_",
        "colab_type": "code",
        "colab": {}
      },
      "source": [
        ""
      ],
      "execution_count": null,
      "outputs": []
    }
  ]
}

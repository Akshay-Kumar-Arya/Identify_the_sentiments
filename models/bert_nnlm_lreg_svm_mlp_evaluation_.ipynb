{
  "nbformat": 4,
  "nbformat_minor": 0,
  "metadata": {
    "colab": {
      "name": "nnlm_vectors_using_lreg_model_evaluation .ipynb",
      "provenance": [],
      "collapsed_sections": [],
      "include_colab_link": true
    },
    "kernelspec": {
      "name": "python3",
      "display_name": "Python 3"
    },
    "accelerator": "GPU"
  },
  "cells": [
    {
      "cell_type": "markdown",
      "metadata": {
        "id": "view-in-github",
        "colab_type": "text"
      },
      "source": [
        "<a href=\"https://colab.research.google.com/github/Akshay-Kumar-Arya/Identify_the_sentiments/blob/master/models/bert_nnlm_lreg_svm_mlp_evaluation_.ipynb\" target=\"_parent\"><img src=\"https://colab.research.google.com/assets/colab-badge.svg\" alt=\"Open In Colab\"/></a>"
      ]
    },
    {
      "cell_type": "markdown",
      "metadata": {
        "id": "WP7zVg-7sOUB",
        "colab_type": "text"
      },
      "source": [
        "# Using nnlm+bert vectors"
      ]
    },
    {
      "cell_type": "code",
      "metadata": {
        "id": "z76hyPXUQfoW",
        "colab_type": "code",
        "colab": {}
      },
      "source": [
        "import sklearn\n",
        "from sklearn.model_selection import train_test_split\n",
        "import pickle\n",
        "import numpy as np\n",
        "import pandas as pd\n",
        "from sklearn.linear_model import LogisticRegression\n",
        "from sklearn.neural_network import MLPClassifier\n",
        "from sklearn import svm\n",
        "from sklearn.metrics import f1_score\n",
        "\n",
        "pd.set_option('display.max_colwidth', 200)"
      ],
      "execution_count": 34,
      "outputs": []
    },
    {
      "cell_type": "code",
      "metadata": {
        "id": "fRfhnlCsQcbA",
        "colab_type": "code",
        "colab": {
          "base_uri": "https://localhost:8080/",
          "height": 122
        },
        "outputId": "afdd598e-d066-4465-ba7f-39235b1abebc"
      },
      "source": [
        "from google.colab import drive\n",
        "drive.mount('/content/gdrive')"
      ],
      "execution_count": 5,
      "outputs": [
        {
          "output_type": "stream",
          "text": [
            "Go to this URL in a browser: https://accounts.google.com/o/oauth2/auth?client_id=947318989803-6bn6qk8qdgf4n4g3pfee6491hc0brc4i.apps.googleusercontent.com&redirect_uri=urn%3aietf%3awg%3aoauth%3a2.0%3aoob&response_type=code&scope=email%20https%3a%2f%2fwww.googleapis.com%2fauth%2fdocs.test%20https%3a%2f%2fwww.googleapis.com%2fauth%2fdrive%20https%3a%2f%2fwww.googleapis.com%2fauth%2fdrive.photos.readonly%20https%3a%2f%2fwww.googleapis.com%2fauth%2fpeopleapi.readonly\n",
            "\n",
            "Enter your authorization code:\n",
            "··········\n",
            "Mounted at /content/gdrive\n"
          ],
          "name": "stdout"
        }
      ]
    },
    {
      "cell_type": "code",
      "metadata": {
        "id": "vHVNZms4HwAs",
        "colab_type": "code",
        "colab": {}
      },
      "source": [
        "# Data path\n",
        "training_data_path = \"/content/gdrive/My Drive/Identify_the_sentiments/train.csv\"\n",
        "test_data_path =  \"/content/gdrive/My Drive/Identify_the_sentiments/test.csv\"\n",
        "\n",
        "save_path = \"/content/gdrive/My Drive/Identify_the_sentiments/\""
      ],
      "execution_count": 6,
      "outputs": []
    },
    {
      "cell_type": "code",
      "metadata": {
        "id": "YNZxi5veRvhA",
        "colab_type": "code",
        "colab": {
          "base_uri": "https://localhost:8080/",
          "height": 34
        },
        "outputId": "7c72e040-0c98-4574-bb1f-1a0a6ce4d516"
      },
      "source": [
        "# reading data from csv\n",
        "train_data = pd.read_csv(training_data_path)\n",
        "test_data = pd.read_csv(test_data_path)\n",
        "\n",
        "print (train_data.shape, test_data.shape)"
      ],
      "execution_count": 7,
      "outputs": [
        {
          "output_type": "stream",
          "text": [
            "(7920, 3) (1953, 2)\n"
          ],
          "name": "stdout"
        }
      ]
    },
    {
      "cell_type": "code",
      "metadata": {
        "id": "GYW1WQ2GSAn5",
        "colab_type": "code",
        "colab": {}
      },
      "source": [
        "# import nnlm embeddings for tweets\n",
        "train_file = open(save_path + \"nnlm_train.pickle\", \"rb\")\n",
        "pool_embs_train_nnlm = pickle.load(train_file)\n",
        "\n",
        "test_file = open(save_path + \"nnlm_test.pickle\", \"rb\")\n",
        "pool_embs_test_nnlm = pickle.load(test_file)"
      ],
      "execution_count": 8,
      "outputs": []
    },
    {
      "cell_type": "code",
      "metadata": {
        "id": "tP8HSaRdj8_X",
        "colab_type": "code",
        "colab": {}
      },
      "source": [
        "# import bert embeddings for tweets\n",
        "train_file = open(save_path + \"bert_train.pickle\", \"rb\")\n",
        "pool_embs_train_bert, _ = pickle.load(train_file)\n",
        "\n",
        "test_file = open(save_path + \"bert_test.pickle\", \"rb\")\n",
        "pool_embs_test_bert, _ = pickle.load(test_file)"
      ],
      "execution_count": 9,
      "outputs": []
    },
    {
      "cell_type": "code",
      "metadata": {
        "id": "SmwcoNMskVcr",
        "colab_type": "code",
        "colab": {}
      },
      "source": [
        "train_final = np.concatenate((pool_embs_train_bert, pool_embs_train_nnlm),axis=1)\n",
        "test_final = np.concatenate((pool_embs_test_bert, pool_embs_test_nnlm),axis=1)"
      ],
      "execution_count": 10,
      "outputs": []
    },
    {
      "cell_type": "code",
      "metadata": {
        "id": "ictXb57LS5i5",
        "colab_type": "code",
        "colab": {
          "base_uri": "https://localhost:8080/",
          "height": 34
        },
        "outputId": "f8e770cd-f4d2-46cb-c174-1c4e65c81d8b"
      },
      "source": [
        "# splitting training and validation data\n",
        "xtrain, xvalid, ytrain, yvalid = train_test_split(train_final, \n",
        "                                                  train_data['label'],  \n",
        "                                                  random_state=42, \n",
        "                                                  test_size=0.2)\n",
        "print (xtrain.shape, xvalid.shape, ytrain.shape, yvalid.shape)"
      ],
      "execution_count": 11,
      "outputs": [
        {
          "output_type": "stream",
          "text": [
            "(6336, 896) (1584, 896) (6336,) (1584,)\n"
          ],
          "name": "stdout"
        }
      ]
    },
    {
      "cell_type": "markdown",
      "metadata": {
        "id": "86T_Xnx0s3wG",
        "colab_type": "text"
      },
      "source": [
        "## logistic regression"
      ]
    },
    {
      "cell_type": "code",
      "metadata": {
        "id": "aTnXrChYTfZP",
        "colab_type": "code",
        "colab": {
          "base_uri": "https://localhost:8080/",
          "height": 136
        },
        "outputId": "bf929177-0967-4d14-bde2-efe34aea6472"
      },
      "source": [
        "# logistic regression model\n",
        "lreg = LogisticRegression(max_iter = 10000, warm_start= True, verbose=True)\n",
        "lreg.fit(xtrain, ytrain)"
      ],
      "execution_count": 12,
      "outputs": [
        {
          "output_type": "stream",
          "text": [
            "[Parallel(n_jobs=1)]: Using backend SequentialBackend with 1 concurrent workers.\n",
            "[Parallel(n_jobs=1)]: Done   1 out of   1 | elapsed:    5.8s finished\n"
          ],
          "name": "stderr"
        },
        {
          "output_type": "execute_result",
          "data": {
            "text/plain": [
              "LogisticRegression(C=1.0, class_weight=None, dual=False, fit_intercept=True,\n",
              "                   intercept_scaling=1, l1_ratio=None, max_iter=10000,\n",
              "                   multi_class='auto', n_jobs=None, penalty='l2',\n",
              "                   random_state=None, solver='lbfgs', tol=0.0001, verbose=True,\n",
              "                   warm_start=True)"
            ]
          },
          "metadata": {
            "tags": []
          },
          "execution_count": 12
        }
      ]
    },
    {
      "cell_type": "code",
      "metadata": {
        "id": "OPh7E2CZUIHt",
        "colab_type": "code",
        "colab": {
          "base_uri": "https://localhost:8080/",
          "height": 34
        },
        "outputId": "443de0dd-4e92-4cf5-ecef-475b805c5305"
      },
      "source": [
        "# logistic regression model prediction on validation dataset\n",
        "preds_valid = lreg.predict(xvalid)\n",
        "print (f1_score(yvalid, preds_valid))"
      ],
      "execution_count": 13,
      "outputs": [
        {
          "output_type": "stream",
          "text": [
            "0.789598108747045\n"
          ],
          "name": "stdout"
        }
      ]
    },
    {
      "cell_type": "code",
      "metadata": {
        "id": "hi2Hw5qVVq-D",
        "colab_type": "code",
        "colab": {}
      },
      "source": [
        "# prediction on test dataset\n",
        "preds_test = lreg.predict(test_final)\n",
        "\n",
        "\n",
        "# prepare submission dataframe\n",
        "sub = pd.DataFrame({'id':test_data['id'], 'label':preds_test})\n",
        "\n",
        "# write predictions to a CSV file\n",
        "sub.to_csv(save_path + \"sub_lreg_bert+nnlm.csv\", index=False)\n",
        "# Your score for this submission is : 0.877712596054773."
      ],
      "execution_count": null,
      "outputs": []
    },
    {
      "cell_type": "markdown",
      "metadata": {
        "id": "W1S2PV4gtAja",
        "colab_type": "text"
      },
      "source": [
        "## mlp"
      ]
    },
    {
      "cell_type": "code",
      "metadata": {
        "id": "rjWsJza8jPIJ",
        "colab_type": "code",
        "colab": {
          "base_uri": "https://localhost:8080/",
          "height": 1000
        },
        "outputId": "70e765f3-955e-4883-9014-1458d963e785"
      },
      "source": [
        "mlp = MLPClassifier(activation='logistic', solver='adam', alpha=1e-5,\n",
        "                    hidden_layer_sizes=(200, 50), random_state=1,\n",
        "                    learning_rate_init=0.01,max_iter=100, warm_start = True, learning_rate = 'invscaling', verbose= True)\n",
        "\n",
        "mlp.fit(xtrain, ytrain)"
      ],
      "execution_count": 43,
      "outputs": [
        {
          "output_type": "stream",
          "text": [
            "Iteration 1, loss = 0.57576572\n",
            "Iteration 2, loss = 0.54830609\n",
            "Iteration 3, loss = 0.41414542\n",
            "Iteration 4, loss = 0.29781562\n",
            "Iteration 5, loss = 0.28458242\n",
            "Iteration 6, loss = 0.27815549\n",
            "Iteration 7, loss = 0.26672405\n",
            "Iteration 8, loss = 0.25722559\n",
            "Iteration 9, loss = 0.24634811\n",
            "Iteration 10, loss = 0.25301496\n",
            "Iteration 11, loss = 0.24299192\n",
            "Iteration 12, loss = 0.24197727\n",
            "Iteration 13, loss = 0.24787174\n",
            "Iteration 14, loss = 0.23982459\n",
            "Iteration 15, loss = 0.23929418\n",
            "Iteration 16, loss = 0.23465909\n",
            "Iteration 17, loss = 0.25078176\n",
            "Iteration 18, loss = 0.25062782\n",
            "Iteration 19, loss = 0.23328224\n",
            "Iteration 20, loss = 0.23383266\n",
            "Iteration 21, loss = 0.22604578\n",
            "Iteration 22, loss = 0.23726248\n",
            "Iteration 23, loss = 0.23170843\n",
            "Iteration 24, loss = 0.24119061\n",
            "Iteration 25, loss = 0.22666072\n",
            "Iteration 26, loss = 0.22569310\n",
            "Iteration 27, loss = 0.22724206\n",
            "Iteration 28, loss = 0.23017333\n",
            "Iteration 29, loss = 0.21950086\n",
            "Iteration 30, loss = 0.23744276\n",
            "Iteration 31, loss = 0.21619309\n",
            "Iteration 32, loss = 0.22375704\n",
            "Iteration 33, loss = 0.22885395\n",
            "Iteration 34, loss = 0.22832413\n",
            "Iteration 35, loss = 0.21559799\n",
            "Iteration 36, loss = 0.21676635\n",
            "Iteration 37, loss = 0.22041416\n",
            "Iteration 38, loss = 0.23354794\n",
            "Iteration 39, loss = 0.21747663\n",
            "Iteration 40, loss = 0.21198862\n",
            "Iteration 41, loss = 0.21304904\n",
            "Iteration 42, loss = 0.21278824\n",
            "Iteration 43, loss = 0.21128148\n",
            "Iteration 44, loss = 0.22645001\n",
            "Iteration 45, loss = 0.22708322\n",
            "Iteration 46, loss = 0.21006522\n",
            "Iteration 47, loss = 0.20858320\n",
            "Iteration 48, loss = 0.21139125\n",
            "Iteration 49, loss = 0.23111621\n",
            "Iteration 50, loss = 0.22259241\n",
            "Iteration 51, loss = 0.20722161\n",
            "Iteration 52, loss = 0.20889657\n",
            "Iteration 53, loss = 0.20847524\n",
            "Iteration 54, loss = 0.20932763\n",
            "Iteration 55, loss = 0.20883124\n",
            "Iteration 56, loss = 0.20873103\n",
            "Iteration 57, loss = 0.20998854\n",
            "Iteration 58, loss = 0.22354305\n",
            "Iteration 59, loss = 0.20745290\n",
            "Iteration 60, loss = 0.21780948\n",
            "Iteration 61, loss = 0.20681963\n",
            "Iteration 62, loss = 0.21640211\n",
            "Iteration 63, loss = 0.20952210\n",
            "Iteration 64, loss = 0.21175534\n",
            "Iteration 65, loss = 0.20384395\n",
            "Iteration 66, loss = 0.21237397\n",
            "Iteration 67, loss = 0.20403216\n",
            "Iteration 68, loss = 0.21585460\n",
            "Iteration 69, loss = 0.21899850\n",
            "Iteration 70, loss = 0.21892744\n",
            "Iteration 71, loss = 0.19852344\n",
            "Iteration 72, loss = 0.19925315\n",
            "Iteration 73, loss = 0.20737613\n",
            "Iteration 74, loss = 0.20081992\n",
            "Iteration 75, loss = 0.20829402\n",
            "Iteration 76, loss = 0.19562336\n",
            "Iteration 77, loss = 0.19579777\n",
            "Iteration 78, loss = 0.19782397\n",
            "Iteration 79, loss = 0.21028322\n",
            "Iteration 80, loss = 0.19750106\n",
            "Iteration 81, loss = 0.20627898\n",
            "Iteration 82, loss = 0.22125121\n",
            "Iteration 83, loss = 0.19839939\n",
            "Iteration 84, loss = 0.20946553\n",
            "Iteration 85, loss = 0.19718541\n",
            "Iteration 86, loss = 0.20406867\n",
            "Iteration 87, loss = 0.21167325\n",
            "Training loss did not improve more than tol=0.000100 for 10 consecutive epochs. Stopping.\n"
          ],
          "name": "stdout"
        },
        {
          "output_type": "execute_result",
          "data": {
            "text/plain": [
              "MLPClassifier(activation='logistic', alpha=1e-05, batch_size='auto', beta_1=0.9,\n",
              "              beta_2=0.999, early_stopping=False, epsilon=1e-08,\n",
              "              hidden_layer_sizes=(200, 50), learning_rate='invscaling',\n",
              "              learning_rate_init=0.01, max_fun=15000, max_iter=100,\n",
              "              momentum=0.9, n_iter_no_change=10, nesterovs_momentum=True,\n",
              "              power_t=0.5, random_state=1, shuffle=True, solver='adam',\n",
              "              tol=0.0001, validation_fraction=0.1, verbose=True,\n",
              "              warm_start=True)"
            ]
          },
          "metadata": {
            "tags": []
          },
          "execution_count": 43
        }
      ]
    },
    {
      "cell_type": "code",
      "metadata": {
        "id": "L4m2U9lMjQoV",
        "colab_type": "code",
        "colab": {
          "base_uri": "https://localhost:8080/",
          "height": 34
        },
        "outputId": "127d3258-3957-473c-f13a-68bf569b0569"
      },
      "source": [
        "# mlp regression model prediction on validation dataset\n",
        "preds_valid = mlp.predict(xvalid)\n",
        "print (f1_score(yvalid, preds_valid))"
      ],
      "execution_count": 44,
      "outputs": [
        {
          "output_type": "stream",
          "text": [
            "0.7963386727688786\n"
          ],
          "name": "stdout"
        }
      ]
    },
    {
      "cell_type": "code",
      "metadata": {
        "id": "2GZCrXSAW1X_",
        "colab_type": "code",
        "colab": {}
      },
      "source": [
        "# prediction on test dataset\n",
        "preds_test = mlp.predict(test_final)\n",
        "\n",
        "\n",
        "# prepare submission dataframe\n",
        "sub = pd.DataFrame({'id':test_data['id'], 'label':preds_test})\n",
        "\n",
        "# write predictions to a CSV file\n",
        "sub.to_csv(save_path + \"sub_mlp_bert+nnlm.csv\", index=False)\n",
        "#Your score for this submission is : 0.886689220510626."
      ],
      "execution_count": 45,
      "outputs": []
    },
    {
      "cell_type": "markdown",
      "metadata": {
        "id": "8674g6LdtHfq",
        "colab_type": "text"
      },
      "source": [
        "## svm"
      ]
    },
    {
      "cell_type": "code",
      "metadata": {
        "id": "0V1vJQm3jQrI",
        "colab_type": "code",
        "colab": {
          "base_uri": "https://localhost:8080/",
          "height": 85
        },
        "outputId": "7ecb5df5-08fb-485b-91cb-081e60354e00"
      },
      "source": [
        "clf = svm.SVC(gamma='scale')\n",
        "\n",
        "clf.fit(xtrain, ytrain)"
      ],
      "execution_count": 29,
      "outputs": [
        {
          "output_type": "execute_result",
          "data": {
            "text/plain": [
              "SVC(C=1.0, break_ties=False, cache_size=200, class_weight=None, coef0=0.0,\n",
              "    decision_function_shape='ovr', degree=3, gamma='scale', kernel='rbf',\n",
              "    max_iter=-1, probability=False, random_state=None, shrinking=True,\n",
              "    tol=0.001, verbose=False)"
            ]
          },
          "metadata": {
            "tags": []
          },
          "execution_count": 29
        }
      ]
    },
    {
      "cell_type": "code",
      "metadata": {
        "id": "BzbOAm-ZjQtn",
        "colab_type": "code",
        "colab": {
          "base_uri": "https://localhost:8080/",
          "height": 34
        },
        "outputId": "65c3fc1c-8ae2-46d8-cea8-f065f60bab21"
      },
      "source": [
        "preds_valid = clf.predict(xvalid)\n",
        "print (f1_score(yvalid, preds_valid))"
      ],
      "execution_count": 30,
      "outputs": [
        {
          "output_type": "stream",
          "text": [
            "0.770909090909091\n"
          ],
          "name": "stdout"
        }
      ]
    },
    {
      "cell_type": "code",
      "metadata": {
        "id": "_ojgJxBak4k8",
        "colab_type": "code",
        "colab": {}
      },
      "source": [
        "# prediction on test dataset\n",
        "preds_test = clf.predict(test_final)\n",
        "\n",
        "\n",
        "# prepare submission dataframe\n",
        "sub = pd.DataFrame({'id':test_data['id'], 'label':preds_test})\n",
        "\n",
        "# write predictions to a CSV file\n",
        "sub.to_csv(save_path + \"sub_svm_bert+nnlm.csv\", index=False)\n",
        "#Your score for this submission is : 0.8654970760233918."
      ],
      "execution_count": 31,
      "outputs": []
    },
    {
      "cell_type": "code",
      "metadata": {
        "id": "KDCOgpnaqnAC",
        "colab_type": "code",
        "colab": {}
      },
      "source": [
        ""
      ],
      "execution_count": null,
      "outputs": []
    }
  ]
}
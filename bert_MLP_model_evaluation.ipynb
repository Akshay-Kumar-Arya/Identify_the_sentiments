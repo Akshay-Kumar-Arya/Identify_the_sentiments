{
  "nbformat": 4,
  "nbformat_minor": 0,
  "metadata": {
    "colab": {
      "name": "model.ipynb",
      "provenance": [],
      "collapsed_sections": [],
      "include_colab_link": true
    },
    "kernelspec": {
      "name": "python3",
      "display_name": "Python 3"
    },
    "accelerator": "GPU"
  },
  "cells": [
    {
      "cell_type": "markdown",
      "metadata": {
        "id": "view-in-github",
        "colab_type": "text"
      },
      "source": [
        "<a href=\"https://colab.research.google.com/github/Akshay-Kumar-Arya/Identify_the_sentiments/blob/master/bert_MLP_model_evaluation.ipynb\" target=\"_parent\"><img src=\"https://colab.research.google.com/assets/colab-badge.svg\" alt=\"Open In Colab\"/></a>"
      ]
    },
    {
      "cell_type": "markdown",
      "metadata": {
        "id": "WP7zVg-7sOUB",
        "colab_type": "text"
      },
      "source": [
        "# MLP model using Bert vectors"
      ]
    },
    {
      "cell_type": "code",
      "metadata": {
        "id": "z76hyPXUQfoW",
        "colab_type": "code",
        "colab": {}
      },
      "source": [
        "import sklearn\n",
        "from sklearn.model_selection import train_test_split\n",
        "import pickle\n",
        "import pandas as pd\n",
        "from sklearn.neural_network import MLPClassifier\n",
        "from sklearn.metrics import f1_score\n",
        "from sklearn.metrics import accuracy_score\n",
        "\n",
        "pd.set_option('display.max_colwidth', 200)"
      ],
      "execution_count": 1,
      "outputs": []
    },
    {
      "cell_type": "code",
      "metadata": {
        "id": "fRfhnlCsQcbA",
        "colab_type": "code",
        "colab": {
          "base_uri": "https://localhost:8080/",
          "height": 122
        },
        "outputId": "8e2d3a20-be71-4d27-dc46-1aafc68e2b8f"
      },
      "source": [
        "from google.colab import drive\n",
        "drive.mount('/content/gdrive')"
      ],
      "execution_count": 2,
      "outputs": [
        {
          "output_type": "stream",
          "text": [
            "Go to this URL in a browser: https://accounts.google.com/o/oauth2/auth?client_id=947318989803-6bn6qk8qdgf4n4g3pfee6491hc0brc4i.apps.googleusercontent.com&redirect_uri=urn%3aietf%3awg%3aoauth%3a2.0%3aoob&response_type=code&scope=email%20https%3a%2f%2fwww.googleapis.com%2fauth%2fdocs.test%20https%3a%2f%2fwww.googleapis.com%2fauth%2fdrive%20https%3a%2f%2fwww.googleapis.com%2fauth%2fdrive.photos.readonly%20https%3a%2f%2fwww.googleapis.com%2fauth%2fpeopleapi.readonly\n",
            "\n",
            "Enter your authorization code:\n",
            "··········\n",
            "Mounted at /content/gdrive\n"
          ],
          "name": "stdout"
        }
      ]
    },
    {
      "cell_type": "code",
      "metadata": {
        "id": "vHVNZms4HwAs",
        "colab_type": "code",
        "colab": {}
      },
      "source": [
        "# Data path\n",
        "training_data_path = \"/content/gdrive/My Drive/Identify_the_sentiments/train.csv\"\n",
        "test_data_path =  \"/content/gdrive/My Drive/Identify_the_sentiments/test.csv\"\n",
        "\n",
        "save_path = \"/content/gdrive/My Drive/Identify_the_sentiments/\""
      ],
      "execution_count": 3,
      "outputs": []
    },
    {
      "cell_type": "code",
      "metadata": {
        "id": "YNZxi5veRvhA",
        "colab_type": "code",
        "colab": {
          "base_uri": "https://localhost:8080/",
          "height": 34
        },
        "outputId": "8eb4606e-322d-48da-cac2-028ed3eabcea"
      },
      "source": [
        "# reading data from csv\n",
        "train_data = pd.read_csv(training_data_path)\n",
        "test_data = pd.read_csv(test_data_path)\n",
        "\n",
        "print (train_data.shape, test_data.shape)"
      ],
      "execution_count": 4,
      "outputs": [
        {
          "output_type": "stream",
          "text": [
            "(7920, 3) (1953, 2)\n"
          ],
          "name": "stdout"
        }
      ]
    },
    {
      "cell_type": "code",
      "metadata": {
        "id": "GYW1WQ2GSAn5",
        "colab_type": "code",
        "colab": {}
      },
      "source": [
        "# import bert embeddings for tweets\n",
        "train_file = open(save_path + \"bert_train.pickle\", \"rb\")\n",
        "pool_embs_train, all_embs_train = pickle.load(train_file)\n",
        "\n",
        "test_file = open(save_path + \"bert_test.pickle\", \"rb\")\n",
        "pool_embs_test, all_embs_test = pickle.load(test_file)"
      ],
      "execution_count": 5,
      "outputs": []
    },
    {
      "cell_type": "code",
      "metadata": {
        "id": "ictXb57LS5i5",
        "colab_type": "code",
        "colab": {
          "base_uri": "https://localhost:8080/",
          "height": 34
        },
        "outputId": "bf8f6921-6fdb-4b8a-b302-7a3c5af3ef2a"
      },
      "source": [
        "# splitting training and validation data\n",
        "xtrain, xvalid, ytrain, yvalid = train_test_split(pool_embs_train, \n",
        "                                                  train_data['label'],  \n",
        "                                                  random_state=42, \n",
        "                                                  test_size=0.2)\n",
        "print (xtrain.shape, xvalid.shape, ytrain.shape, yvalid.shape)"
      ],
      "execution_count": 7,
      "outputs": [
        {
          "output_type": "stream",
          "text": [
            "(6336, 768) (1584, 768) (6336,) (1584,)\n"
          ],
          "name": "stdout"
        }
      ]
    },
    {
      "cell_type": "code",
      "metadata": {
        "id": "aTnXrChYTfZP",
        "colab_type": "code",
        "colab": {
          "base_uri": "https://localhost:8080/",
          "height": 1000
        },
        "outputId": "66a53fc6-1e28-40d9-caf0-0ed620949ccc"
      },
      "source": [
        "# MLP classifier model\n",
        "mlp = MLPClassifier(activation='logistic', solver='adam', alpha=1e-5,\n",
        "                    hidden_layer_sizes=(100,50), random_state=1,\n",
        "                    learning_rate_init=0.01,max_iter=100, verbose= True, warm_start = True, learning_rate='invscaling')\n",
        "\n",
        "mlp.fit(xtrain, ytrain)"
      ],
      "execution_count": 55,
      "outputs": [
        {
          "output_type": "stream",
          "text": [
            "Iteration 1, loss = 0.56996895\n",
            "Iteration 2, loss = 0.54411294\n",
            "Iteration 3, loss = 0.41276841\n",
            "Iteration 4, loss = 0.33394444\n",
            "Iteration 5, loss = 0.32141928\n",
            "Iteration 6, loss = 0.30461050\n",
            "Iteration 7, loss = 0.28743850\n",
            "Iteration 8, loss = 0.29816610\n",
            "Iteration 9, loss = 0.27591259\n",
            "Iteration 10, loss = 0.28037288\n",
            "Iteration 11, loss = 0.29894098\n",
            "Iteration 12, loss = 0.29641502\n",
            "Iteration 13, loss = 0.26877739\n",
            "Iteration 14, loss = 0.26687115\n",
            "Iteration 15, loss = 0.27225133\n",
            "Iteration 16, loss = 0.26798459\n",
            "Iteration 17, loss = 0.26265684\n",
            "Iteration 18, loss = 0.25897409\n",
            "Iteration 19, loss = 0.25912655\n",
            "Iteration 20, loss = 0.25805479\n",
            "Iteration 21, loss = 0.26020400\n",
            "Iteration 22, loss = 0.25770641\n",
            "Iteration 23, loss = 0.25097493\n",
            "Iteration 24, loss = 0.26070072\n",
            "Iteration 25, loss = 0.25451664\n",
            "Iteration 26, loss = 0.25999250\n",
            "Iteration 27, loss = 0.25139548\n",
            "Iteration 28, loss = 0.24952626\n",
            "Iteration 29, loss = 0.24904179\n",
            "Iteration 30, loss = 0.26251954\n",
            "Iteration 31, loss = 0.25446713\n",
            "Iteration 32, loss = 0.25974688\n",
            "Iteration 33, loss = 0.24606543\n",
            "Iteration 34, loss = 0.24347029\n",
            "Iteration 35, loss = 0.25693985\n",
            "Iteration 36, loss = 0.26398442\n",
            "Iteration 37, loss = 0.26455404\n",
            "Iteration 38, loss = 0.24565927\n",
            "Iteration 39, loss = 0.24408931\n",
            "Iteration 40, loss = 0.25510895\n",
            "Iteration 41, loss = 0.24335615\n",
            "Iteration 42, loss = 0.24358215\n",
            "Iteration 43, loss = 0.24182021\n",
            "Iteration 44, loss = 0.23883262\n",
            "Iteration 45, loss = 0.23905235\n",
            "Iteration 46, loss = 0.25557424\n",
            "Iteration 47, loss = 0.23812030\n",
            "Iteration 48, loss = 0.24850733\n",
            "Iteration 49, loss = 0.24334860\n",
            "Iteration 50, loss = 0.23998281\n",
            "Iteration 51, loss = 0.23483322\n",
            "Iteration 52, loss = 0.24134661\n",
            "Iteration 53, loss = 0.24322792\n",
            "Iteration 54, loss = 0.23309377\n",
            "Iteration 55, loss = 0.23852971\n",
            "Iteration 56, loss = 0.23751813\n",
            "Iteration 57, loss = 0.25460937\n",
            "Iteration 58, loss = 0.23990701\n",
            "Iteration 59, loss = 0.23401360\n",
            "Iteration 60, loss = 0.23453569\n",
            "Iteration 61, loss = 0.23335965\n",
            "Iteration 62, loss = 0.23300146\n",
            "Iteration 63, loss = 0.26057744\n",
            "Iteration 64, loss = 0.23788694\n",
            "Iteration 65, loss = 0.24562517\n",
            "Training loss did not improve more than tol=0.000100 for 10 consecutive epochs. Stopping.\n"
          ],
          "name": "stdout"
        },
        {
          "output_type": "execute_result",
          "data": {
            "text/plain": [
              "MLPClassifier(activation='logistic', alpha=1e-05, batch_size='auto', beta_1=0.9,\n",
              "              beta_2=0.999, early_stopping=False, epsilon=1e-08,\n",
              "              hidden_layer_sizes=(100, 50), learning_rate='invscaling',\n",
              "              learning_rate_init=0.01, max_fun=15000, max_iter=100,\n",
              "              momentum=0.9, n_iter_no_change=10, nesterovs_momentum=True,\n",
              "              power_t=0.5, random_state=1, shuffle=True, solver='adam',\n",
              "              tol=0.0001, validation_fraction=0.1, verbose=True,\n",
              "              warm_start=True)"
            ]
          },
          "metadata": {
            "tags": []
          },
          "execution_count": 55
        }
      ]
    },
    {
      "cell_type": "code",
      "metadata": {
        "id": "IZnzlsXyAoQX",
        "colab_type": "code",
        "colab": {
          "base_uri": "https://localhost:8080/",
          "height": 51
        },
        "outputId": "c35d45da-00c8-4ffa-dd76-939c525b9f52"
      },
      "source": [
        "# prediction on validation dataset\n",
        "preds_valid = mlp.predict(xvalid)\n",
        "print(f1_score(yvalid, preds_valid))\n",
        "print(accuracy_score(yvalid, preds_valid))"
      ],
      "execution_count": 56,
      "outputs": [
        {
          "output_type": "stream",
          "text": [
            "0.8138075313807531\n",
            "0.8876262626262627\n"
          ],
          "name": "stdout"
        }
      ]
    },
    {
      "cell_type": "code",
      "metadata": {
        "id": "hi2Hw5qVVq-D",
        "colab_type": "code",
        "colab": {}
      },
      "source": [
        "# prediction on test dataset\n",
        "preds_test = mlp.predict(pool_embs_test)\n",
        "\n",
        "\n",
        "# prepare submission dataframe\n",
        "sub = pd.DataFrame({'id':test_data['id'], 'label':preds_test})\n",
        "\n",
        "# write predictions to a CSV file\n",
        "sub.to_csv(save_path + \"sub_mlp_bert.csv\", index=False)\n",
        "#Your score for this submission is : 0.8792921986900165."
      ],
      "execution_count": 57,
      "outputs": []
    },
    {
      "cell_type": "code",
      "metadata": {
        "id": "2GZCrXSAW1X_",
        "colab_type": "code",
        "colab": {}
      },
      "source": [
        ""
      ],
      "execution_count": null,
      "outputs": []
    }
  ]
}